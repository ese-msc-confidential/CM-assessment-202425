{
 "cells": [
  {
   "cell_type": "markdown",
   "metadata": {
    "toc": true
   },
   "source": [
    "<h1>Table of Contents<span class=\"tocSkip\"></span></h1>\n",
    "<div class=\"toc\"><ul class=\"toc-item\"><li><span><a href=\"#Question-1-[30-marks]\" data-toc-modified-id=\"Question-1-[30-marks]-1\"><span class=\"toc-item-num\">1&nbsp;&nbsp;</span>Question 1 [30 marks]</a></span></li><li><span><a href=\"#Question-2-[35-marks]\" data-toc-modified-id=\"Question-2-[35-marks]-2\"><span class=\"toc-item-num\">2&nbsp;&nbsp;</span>Question 2 [35 marks]</a></span></li><li><span><a href=\"#Question-4-[35-marks]\" data-toc-modified-id=\"Question-4-[35-marks]-3\"><span class=\"toc-item-num\">3&nbsp;&nbsp;</span>Question 4 [35 marks]</a></span></li></ul></div>"
   ]
  },
  {
   "cell_type": "markdown",
   "metadata": {},
   "source": [
    "# Computational Mathematics <a class=\"tocSkip\">\n",
    "\n",
    "## 2024/25 Assessment  <a class=\"tocSkip\">"
   ]
  },
  {
   "cell_type": "markdown",
   "metadata": {},
   "source": [
    "## Release: 10AM Thursday 31 October 2024 <a class=\"tocSkip\">\n",
    "\n",
    "## Deadline: 4PM Friday 1 November 2024 <a class=\"tocSkip\">"
   ]
  },
  {
   "cell_type": "markdown",
   "metadata": {},
   "source": [
    "# Instructions  <a class=\"tocSkip\">\n",
    "    \n",
    "\n",
    "- This is the assessed coursework for module \"Computational Mathematics\" for year 2024/25.\n",
    "\n",
    "\n",
    "- **This is independent work, you cannot work in groups.**\n",
    "\n",
    "\n",
    "- This notebook contains **three** questions. Please answer all questions.\n",
    "\n",
    "<br>\n",
    "    \n",
    "- You will be assessed on both your code as well as your supporting descriptions/discussions of the results you obtain.\n",
    "\n",
    "\n",
    "- You may use any Python library or function we used in lectures, and you may reuse any code from lectures and homeworks. If you use an algorithm not explicitly mentioned in the question, then please explain which algorithm you are using and why you have chosen it.\n",
    "\n",
    "<br>\n",
    "    \n",
    "- You should submit your solutions as a single self-contained Jupyter notebooks via Github classroom - **please submit a version where you have run all of the cells and all the outputs/plots etc are visible without the marker having to run the notebook themselves**.\n",
    "If you choose to submit your solution in something other than a Github classroom, please do it in a format where the marker can easily see your answer text and associated figures. \n",
    " \n",
    "<br>\n",
    "\n",
    "- If you are happy to write down your mathematical work in the form of Latex directly within this notebook then feel free to do this.\n",
    "\n",
    "\n",
    "- Alternatively you may if you choose submit parts of your answers via **scans or photos of hand written pages** - feel free to use this option in particular for supplementary sketches, equations or where I have asked you to complete a task with \"pen and paper\". You will not be marked down for not embedding equations into your markdown cells. Please make sure that the question number each sheet you scan refers to is very clear. Even if you embed the images within the notebook, please also commit the images files to your github submission."
   ]
  },
  {
   "cell_type": "markdown",
   "metadata": {},
   "source": [
    "# Use of generative AI <a class=\"tocSkip\">\n",
    "\n",
    "If you utilize ChatGPT or any other external tool/reference, this should be clearly indicated via comments in your code and answers, including briefs descriptions of what they were used for and how they were used in the references.md file (links to conversations with ChatGPT should or similar tools should be included in here)."
   ]
  },
  {
   "cell_type": "code",
   "execution_count": null,
   "metadata": {
    "scrolled": false
   },
   "outputs": [],
   "source": [
    "# update as necessary for your solutions\n",
    "%matplotlib inline\n",
    "import numpy as np\n",
    "import matplotlib.pyplot as plt\n",
    "\n"
   ]
  },
  {
   "cell_type": "markdown",
   "metadata": {},
   "source": [
    "# Question 1 [30 marks]\n",
    "\n",
    "Consider the following two statements\n",
    "\n",
    "<br>\n",
    "\n",
    "    - All models are wrong, but some are useful.\n",
    "\n",
    "\n",
    "    - A model may get the right answer for the wrong reason.\n",
    "\n",
    "\n",
    "<br>\n",
    "\n",
    "(a) Provide your own examples (in words and in code) to convey the importance of each of these two statements. Your code examples can be highly idealised, but in this case include explanations for how these concepts also impact on, and are important in more complex (perhaps real world) models.\n",
    "\n",
    "<br>\n",
    "\n",
    "\n",
    "(b) Explain the following four concepts: \n",
    "\n",
    "        - code verification\n",
    "        - solution verification\n",
    "        - model validation\n",
    "        - model calibration\n",
    "\n",
    "Include in your explanations what each of these mean, how they are different, and why they are important. \n",
    "\n",
    "As part of your explanations, implement your own idealised examples to demonstrate how each of these tasks is performed and/or in the case of the first three how a piece of code or model may \"fail\" this concept.\n",
    "\n",
    "<br>\n",
    "\n",
    "***In this question imagine you are explaining these concepts to one of your classmates before they had started this module - how would you do this in the clearest way possible?***"
   ]
  },
  {
   "cell_type": "code",
   "execution_count": null,
   "metadata": {},
   "outputs": [],
   "source": []
  },
  {
   "cell_type": "code",
   "execution_count": null,
   "metadata": {},
   "outputs": [],
   "source": []
  },
  {
   "cell_type": "markdown",
   "metadata": {},
   "source": [
    "# Question 2 [35 marks]\n",
    "\n",
    "From our work on probability and the Gaussian distribution we made use of the following function\n",
    "\n",
    "$$f(x) := \\frac{1}{\\sqrt{\\pi}} e^{-x^2} $$\n",
    "\n",
    "\n",
    "<br><br>\n",
    "\n",
    "(a) Consider this function over the interval  $-10 < x < 10$. \n",
    "You can evaluate this function in order to sample it at a series of $x$ values of your choice, i.e. to form a series of data points $(x_i,f(x_i))$. Based on this data, compare the abilities of polynomial interpolation and piecewise polynomial interpolation of different degrees to provide a good approximation to the underlying function.\n",
    "\n",
    "<br><br>\n",
    "\n",
    "(b) We know that this function has the following integral value over the infinite interval $-\\infty < x < \\infty$\n",
    "\n",
    "$$\\int_{-\\infty}^{\\infty} f(x)\\, dx = 1 $$\n",
    "\n",
    "\n",
    "Perform quadratue to approximate this integral. The first thing you will need to do is to reduce the infinite interval to a finite one, you should comment on how you decide to do this as part of your answer. Comment and demonstrate ways in which you can obtain the most accurate answer possible for the minimum number of function evaluations.\n",
    "\n",
    "\n"
   ]
  },
  {
   "cell_type": "code",
   "execution_count": null,
   "metadata": {},
   "outputs": [],
   "source": []
  },
  {
   "cell_type": "code",
   "execution_count": null,
   "metadata": {},
   "outputs": [],
   "source": []
  },
  {
   "cell_type": "markdown",
   "metadata": {},
   "source": [
    "# Question 4 [35 marks]\n",
    "\n",
    "Recall the Taylor series expansion, which can be written in the form\n",
    "\n",
    "$$ y_{n+1} = y_n + \\Delta t\\, y'_n + \\frac{\\Delta t^2}{2!}y''_n + \\frac{\\Delta t^3}{3!}y'''_n + \\mathcal{O}(\\Delta t^4),$$\n",
    "\n",
    "where we're using the notation $\\,y_n := y(t_n)\\,$ and $\\,y'_n := f(t_n,y_n)\\,$.\n",
    "\n",
    "<br>\n",
    "\n",
    "We used this expansion, dropping second-order terms, and replacing THE unknown $y'_n$ with the known right hand side (RHS) function ($f$), as a means to derive the simple first-order forward Euler scheme as a solver for ODEs.\n",
    "\n",
    "<br>\n",
    "\n",
    "One way to derive higher-order schemes is to attempt to keep additional terms in this expansion. This should clearly, by definition, result in ODE solvers with higher-order errors.\n",
    "\n",
    "However, to obtain a usable scheme we need to write these additional terms in terms of things that we know - note that for a general ODE problem we don't know $\\,y'', \\, y'''\\, ...$  as we don't know the exact solution of course.\n",
    "\n",
    "However, we do know the RHS function $f$ and using the chain rule we can equate the unknown $y$ derivatives with $f$ derivatives that we can calculate from the given form of $f$:\n",
    "\n",
    "$$ y'' = \\frac{dy'}{dt} = \\frac{df(t,y(t))}{dt} = \\frac{\\partial f}{\\partial t} + \\frac{\\partial f}{\\partial y}\\frac{d y}{d t} = f_t + f_y \\, y' = f_t + f \\, f_y,  $$\n",
    "\n",
    "where we're using the notation for partial derivatives\n",
    "\n",
    "$$f_t \\equiv \\frac{\\partial f}{\\partial t}, \\;\\;\n",
    "f_y \\equiv \\frac{\\partial f}{\\partial y}$$\n",
    "\n",
    "\n",
    "Similarly,  use of the chain rule can be shown to yield\n",
    "\n",
    "$$ y''' = f_{tt} + 2f\\,f_{yt} + f_t\\,f_y + f\\,f_y^2 + f^2\\,f_{yy}, $$\n",
    "\n",
    "where \n",
    "\n",
    "$$f_{tt} \\equiv \\frac{\\partial^2 f}{\\partial t^2}, \\;\\;\n",
    "f_{yt} \\equiv \\frac{\\partial^2 f}{\\partial y \\partial t}, \\;\\;\n",
    "f_{yy} \\equiv \\frac{\\partial^2 f}{\\partial y^2}$$\n",
    "\n",
    "\n",
    "<br>\n",
    "\n",
    "Now since we know $f$ as a function of $t$ and $y$ we can in principle compute all of these terms for a given $f$ function and evaluate them at time level $n$ to achieve a higher-order time-stepping method via the Taylor series expansion.\n",
    "\n",
    "\n",
    "<br> <br>\n",
    "\n",
    "(a) Write a solver or solvers that implement the above idea and test it using the simpler cases where the RHS is a function of $y$ only and where it is a function of $t$ only - you can choose your own test cases here. Comment why these two scenarios (i.e. what the RHS is a function of) are fundamentally different in terms of expected error growth.\n",
    "\n",
    "<br> <br>\n",
    "\n",
    "(b) Now verify your solver using the following test case where the RHS function depends on both $y$ and $t$:\n",
    "\n",
    "$$ y' = y + t^3, \\;\\;\\;\\;\\;\\; y(0) = 1, $$  \n",
    "\n",
    "which has the exact solution\n",
    "\n",
    "$$ y(t) = 7\\text{e}^t - t^3 - 3t^2 - 6t - 6 $$\n",
    "\n",
    "Consider this problem up to time $t=3$.\n",
    "\n",
    "Comment on whether your convergence results give what would be expected based on a theoretical error analysis of your methods.\n",
    "\n",
    "<br>\n",
    "\n",
    "Demonstrate and explain why the RMS (root-mean-square) and max norm approaches to estimate the error in the numerical solution are sensible choices, while the standard 1 (taxi-cab) and 2 (Euclidean) norms are poor choices.\n"
   ]
  },
  {
   "cell_type": "code",
   "execution_count": null,
   "metadata": {},
   "outputs": [],
   "source": [
    "\n"
   ]
  },
  {
   "cell_type": "code",
   "execution_count": null,
   "metadata": {},
   "outputs": [],
   "source": []
  }
 ],
 "metadata": {
  "celltoolbar": "Slideshow",
  "kernelspec": {
   "display_name": "Python 3 (ipykernel)",
   "language": "python",
   "name": "python3"
  },
  "language_info": {
   "codemirror_mode": {
    "name": "ipython",
    "version": 3
   },
   "file_extension": ".py",
   "mimetype": "text/x-python",
   "name": "python",
   "nbconvert_exporter": "python",
   "pygments_lexer": "ipython3",
   "version": "3.11.5"
  },
  "latex_envs": {
   "LaTeX_envs_menu_present": true,
   "autoclose": false,
   "autocomplete": true,
   "bibliofile": "biblio.bib",
   "cite_by": "apalike",
   "current_citInitial": 1,
   "eqLabelWithNumbers": true,
   "eqNumInitial": 1,
   "hotkeys": {
    "equation": "Ctrl-E",
    "itemize": "Ctrl-I"
   },
   "labels_anchors": false,
   "latex_user_defs": false,
   "report_style_numbering": false,
   "user_envs_cfg": false
  },
  "toc": {
   "base_numbering": 1,
   "nav_menu": {},
   "number_sections": true,
   "sideBar": true,
   "skip_h1_title": false,
   "title_cell": "Table of Contents",
   "title_sidebar": "Contents",
   "toc_cell": true,
   "toc_position": {},
   "toc_section_display": true,
   "toc_window_display": false
  },
  "varInspector": {
   "cols": {
    "lenName": 16,
    "lenType": 16,
    "lenVar": 40
   },
   "kernels_config": {
    "python": {
     "delete_cmd_postfix": "",
     "delete_cmd_prefix": "del ",
     "library": "var_list.py",
     "varRefreshCmd": "print(var_dic_list())"
    },
    "r": {
     "delete_cmd_postfix": ") ",
     "delete_cmd_prefix": "rm(",
     "library": "var_list.r",
     "varRefreshCmd": "cat(var_dic_list()) "
    }
   },
   "types_to_exclude": [
    "module",
    "function",
    "builtin_function_or_method",
    "instance",
    "_Feature"
   ],
   "window_display": false
  }
 },
 "nbformat": 4,
 "nbformat_minor": 1
}
